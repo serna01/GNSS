{
  "nbformat": 4,
  "nbformat_minor": 0,
  "metadata": {
    "colab": {
      "provenance": [],
      "authorship_tag": "ABX9TyMHZfBNckYrYScp5wcmFyKH",
      "include_colab_link": true
    },
    "kernelspec": {
      "name": "python3",
      "display_name": "Python 3"
    },
    "language_info": {
      "name": "python"
    }
  },
  "cells": [
    {
      "cell_type": "markdown",
      "metadata": {
        "id": "view-in-github",
        "colab_type": "text"
      },
      "source": [
        "<a href=\"https://colab.research.google.com/github/serna01/GNSS/blob/main/homework2_GNSS.ipynb\" target=\"_parent\"><img src=\"https://colab.research.google.com/assets/colab-badge.svg\" alt=\"Open In Colab\"/></a>"
      ]
    },
    {
      "cell_type": "code",
      "execution_count": null,
      "metadata": {
        "colab": {
          "base_uri": "https://localhost:8080/"
        },
        "id": "03dCvxlQFEAl",
        "outputId": "37c85fa4-a98f-40d9-f7e5-04646c5ffc39"
      },
      "outputs": [
        {
          "output_type": "stream",
          "name": "stdout",
          "text": [
            "[-2694684.473 -4293642.366  3857878.924]\n",
            "[-2694892.46  -4293083.225  3858353.437]\n"
          ]
        }
      ],
      "source": [
        "#runway 30 using WGS 84 XYZ coordinates -ECEF\n",
        "import numpy as np\n",
        "rwy30start = np.array([-2694684.473,\n",
        "              -4293642.366,\n",
        "              3857878.924])\n",
        "\n",
        "rwy30end = np.array([-2694892.460,\n",
        "            -4293083.225,\n",
        "            3858353.437])\n",
        "print (rwy30start)\n",
        "print (rwy30end)"
      ]
    },
    {
      "cell_type": "code",
      "source": [
        "#geodetic latitude, longitude, and altitude above the WGS-84 ellipsoid\n",
        "#of the rwy30start position.Provide the latitude and longitude in degrees, and the\n",
        "#altitude in meters. Make sure you include enough significant digits to capture the\n",
        "#accuracy of the XYZ coordinates.\n",
        "\n",
        "#WGS-84 ellipsoidal parameters\n",
        "semiMajor_axis = 6378137.0 #meters\n",
        "flattening_factor = 1/298.257223563 #unitless\n",
        "semiMinor_axis = semiMajor_axis * (1 - flattening_factor)\n",
        "we = 7292115.0e-10 #rad/s\n",
        "G = 3986004.418e8 #m^3/s^2\n",
        "c = 299792458.0 #m/s\n"
      ],
      "metadata": {
        "id": "a6Url1nCHh_p"
      },
      "execution_count": null,
      "outputs": []
    },
    {
      "cell_type": "code",
      "source": [
        "import numpy as np\n",
        "\n",
        "# WGS-84 ellipsoidal parameters\n",
        "a = 6378137.0  # semi-major axis in meters\n",
        "f = 1 / 298.257223563  # flattening\n",
        "b = a * (1 - f)  # semi-minor axis\n",
        "e_sq = 2*f - f**2  # eccentricity squared\n",
        "\n",
        "def iterative_ecef_to_geodetic(x, y, z, tolerance=1e-10, max_iterations=100):\n",
        "    \"\"\"\n",
        "    Convert ECEF coordinates to geodetic coordinates using an iterative method.\n",
        "\n",
        "    Args:\n",
        "    x, y, z (float): ECEF coordinates in meters\n",
        "    tolerance (float): Convergence tolerance\n",
        "    max_iterations (int): Maximum number of iterations\n",
        "\n",
        "    Returns:\n",
        "    tuple: (latitude, longitude, altitude) where lat and lon are in degrees, alt in meters\n",
        "    \"\"\"\n",
        "    # Calculate longitude\n",
        "    lon = np.arctan2(y, x)\n",
        "\n",
        "    # Initial guess for latitude\n",
        "    p = np.sqrt(x**2 + y**2)\n",
        "    lat = np.arctan2(z, p * (1 - e_sq))\n",
        "\n",
        "    # Iterative calculation of latitude and altitude\n",
        "    for _ in range(max_iterations):\n",
        "        N = a / np.sqrt(1 - e_sq * np.sin(lat)**2)\n",
        "        h = p / np.cos(lat) - N\n",
        "\n",
        "        lat_new = np.arctan2(z, p * (1 - e_sq * N / (N + h)))\n",
        "\n",
        "        if np.abs(lat - lat_new) < tolerance:\n",
        "            break\n",
        "\n",
        "        lat = lat_new\n",
        "\n",
        "    return np.degrees(lat), np.degrees(lon), h\n",
        "\n",
        "# Example usage:\n",
        "\n",
        "print (\"Runway 30 Start\")\n",
        "lat, lon, alt = iterative_ecef_to_geodetic(*rwy30start)\n",
        "\n",
        "print(f\"Latitude:  {lat:.9f} degrees\")\n",
        "print(f\"Longitude: {lon:.9f} degrees\")\n",
        "print(f\"Altitude:  {alt:.4f} meters\")\n",
        "\n",
        "print (\"Runway 30 End\")\n",
        "lat_end, lon_end, alt_end = iterative_ecef_to_geodetic(*rwy30end)\n",
        "\n",
        "print(f\"Latitude:  {lat_end:.9f} degrees\")\n",
        "print(f\"Longitude: {lon_end:.9f} degrees\")\n",
        "print(f\"Altitude:  {alt_end:.4f} meters\")"
      ],
      "metadata": {
        "colab": {
          "base_uri": "https://localhost:8080/"
        },
        "id": "KWHfQ-CYLy26",
        "outputId": "6dbaf86a-bf91-4588-efc4-2f4f96c34364"
      },
      "execution_count": null,
      "outputs": [
        {
          "output_type": "stream",
          "name": "stdout",
          "text": [
            "Runway 30 Start\n",
            "Latitude:  37.458379348 degrees\n",
            "Longitude: -122.112329422 degrees\n",
            "Altitude:  -31.8775 meters\n",
            "Runway 30 End\n",
            "Latitude:  37.463762427 degrees\n",
            "Longitude: -122.117680472 degrees\n",
            "Altitude:  -31.4155 meters\n"
          ]
        }
      ]
    },
    {
      "cell_type": "code",
      "source": [
        "#Determine the latitude and longitude of the rwy30Start and rwy30End position in\n",
        "#degrees, arc-minutes, and arc-seconds.\n",
        "\n",
        "#define my other functions\n",
        "\n",
        "def to_arc_mins(degrees: float) -> float:\n",
        "  return degrees * 60\n",
        "\n",
        "def to_arc_secs(degrees: float) -> float:\n",
        "  return degrees * 3600\n",
        "\n",
        "print (\"Runway 30 Start\")\n",
        "print(f\"Latitude in arc mins:  {to_arc_mins(lat):.9f} degrees\")\n",
        "print(f\"Longitude in arc mins:  {to_arc_mins(lon):.9f} degrees\\n\")\n",
        "print(f\"Latitude in arc secs:  {to_arc_secs(lat):.9f} degrees\")\n",
        "print(f\"Longitude in arc sec:  {to_arc_secs(lon):.9f} degrees \\n\")\n",
        "\n",
        "print (\"Runway 30 End\")\n",
        "print(f\"Latitude in arc mins:  {to_arc_mins(lat_end):.9f} degrees\")\n",
        "print(f\"Longitude in arc mins:  {to_arc_mins(lon_end):.9f} degrees\\n\")\n",
        "print(f\"Latitude in arc secs:  {to_arc_secs(lat_end):.9f} degrees\")\n",
        "print(f\"Longitude in arc secs:  {to_arc_secs(lon_end):.9f} degrees\\n\")\n",
        "\n"
      ],
      "metadata": {
        "colab": {
          "base_uri": "https://localhost:8080/"
        },
        "id": "mjlfDcFzMzo1",
        "outputId": "498e940e-0dc3-4e2d-f860-87196df30553"
      },
      "execution_count": null,
      "outputs": [
        {
          "output_type": "stream",
          "name": "stdout",
          "text": [
            "Runway 30 Start\n",
            "Latitude in arc mins:  2247.502760893 degrees\n",
            "Longitude in arc mins:  -7326.739765341 degrees\n",
            "\n",
            "Latitude in arc secs:  134850.165653601 degrees\n",
            "Longitude in arc sec:  -439604.385920487 degrees \n",
            "\n",
            "Runway 30 End\n",
            "Latitude in arc mins:  2247.825745604 degrees\n",
            "Longitude in arc mins:  -7327.060828342 degrees\n",
            "\n",
            "Latitude in arc secs:  134869.544736221 degrees\n",
            "Longitude in arc secs:  -439623.649700543 degrees\n",
            "\n"
          ]
        }
      ]
    },
    {
      "cell_type": "code",
      "source": [
        "#Given that in the vicinity of Palo Alto the geoid is 33 meters below the WGS 84\n",
        "#reference ellipsoid, what is the height of the rwy30Start position above the geoid?\n",
        "alt_geoid_paloAlto = 33 #meters\n",
        "print(f\"height of the rwy30Start position above the geoid in Palo Alto is {(alt_geoid_paloAlto + alt):.5} meters\")\n",
        "\n"
      ],
      "metadata": {
        "colab": {
          "base_uri": "https://localhost:8080/"
        },
        "id": "aFRxg9xGSCQ-",
        "outputId": "cc7e0224-af83-4d64-a847-0a8e6d0d992b"
      },
      "execution_count": null,
      "outputs": [
        {
          "output_type": "stream",
          "name": "stdout",
          "text": [
            "height of the rwy30Start position above the geoid in Palo Alto is 1.1225 meters\n"
          ]
        }
      ]
    },
    {
      "cell_type": "code",
      "source": [
        "def ecef_to_enu(origin, point):\n",
        "    \"\"\"\n",
        "    Convert ECEF coordinates to ENU coordinates.\n",
        "    using info from https://gssc.esa.int/navipedia/index.php/Transformations_between_ECEF_and_ENU_coordinates\n",
        "\n",
        "    Parameters:\n",
        "    origin (numpy array): ECEF coordinates of the origin (reference frame) [X, Y, Z].\n",
        "    point (numpy array): ECEF coordinates of the point to convert [X, Y, Z].\n",
        "\n",
        "    Returns:\n",
        "    numpy array: ENU coordinates of the point relative to the origin.\n",
        "    \"\"\"\n",
        "    # Extract the X, Y, Z coordinates of the origin\n",
        "    Xo, Yo, Zo = origin\n",
        "\n",
        "    # lat and long come from previous calculations\n",
        "\n",
        "    latitude = lat\n",
        "    longitude = lon\n",
        "\n",
        "    # Compute the transformation matrix R\n",
        "    sin_lat = np.sin(latitude)\n",
        "    cos_lat = np.cos(latitude)\n",
        "    sin_lon = np.sin(longitude)\n",
        "    cos_lon = np.cos(longitude)\n",
        "\n",
        "    R = np.array([\n",
        "        [-sin_lon, cos_lon, 0],\n",
        "        [-sin_lat * cos_lon, -sin_lat * sin_lon, cos_lat],\n",
        "        [cos_lat * cos_lon, cos_lat * sin_lon, sin_lat]\n",
        "    ])\n",
        "\n",
        "    # Calculate the position vector from the origin to the point\n",
        "    position_vector = point - origin\n",
        "\n",
        "    # Convert the position vector to ENU coordinates using the transformation matrix\n",
        "    enu_coordinates = R @ position_vector\n",
        "\n",
        "    return enu_coordinates, latitude, longitude\n"
      ],
      "metadata": {
        "id": "Ng2X0D1zX1Dj"
      },
      "execution_count": null,
      "outputs": []
    },
    {
      "cell_type": "code",
      "source": [
        "enu_coordinates, lati, longi = ecef_to_enu(rwy30start, rwy30end)\n",
        "print(\"ENU Coordinates:\", enu_coordinates)"
      ],
      "metadata": {
        "colab": {
          "base_uri": "https://localhost:8080/"
        },
        "id": "FopDCHjnX4JT",
        "outputId": "8b3add23-304a-47ab-d2a6-be83278c461a"
      },
      "execution_count": null,
      "outputs": [
        {
          "output_type": "stream",
          "name": "stdout",
          "text": [
            "ENU Coordinates: [-595.71233622  453.20026963 -144.20875596]\n"
          ]
        }
      ]
    },
    {
      "cell_type": "code",
      "source": [
        "def local_to_utc(year, month, day, hour, minute, second, timezone_offset):\n",
        "    \"\"\"\n",
        "    Convert local time to UTC.\n",
        "\n",
        "    Parameters:\n",
        "    year (int): Year\n",
        "    month (int): Month\n",
        "    day (int): Day\n",
        "    hour (int): Hour\n",
        "    minute (int): Minute\n",
        "    second (int): Second\n",
        "    timezone_offset (int): Timezone offset in hours\n",
        "\n",
        "    Returns:\n",
        "    tuple: UTC time as (year, month, day, hour, minute, second)\n",
        "    \"\"\"\n",
        "    # Adjust time for timezone offset\n",
        "    hour -= timezone_offset\n",
        "\n",
        "    # Handle overflow or underflow of hours\n",
        "    if hour < 0:\n",
        "        hour += 24\n",
        "        day -= 1\n",
        "    elif hour >= 24:\n",
        "        hour -= 24\n",
        "        day += 1\n",
        "\n",
        "    # Simple month and day handling, not accounting for month length or leap years\n",
        "    if month == 2 and day > 28:\n",
        "        day -= 28\n",
        "        month += 1\n",
        "    elif day > 30:  # Handle months with 30 days\n",
        "        day -= 30\n",
        "        month += 1\n",
        "    if month > 12:  # Handle year overflow\n",
        "        month = 1\n",
        "        year += 1\n",
        "\n",
        "    return year, month, day, hour, minute, second\n",
        "\n",
        "\n",
        "def local_to_utc_jd(year, month, day, hour, minute, second):\n",
        "    \"\"\"\n",
        "    Convert local time to Julian Date and Modified Julian Date.\n",
        "\n",
        "    Parameters:\n",
        "    year (int): Year\n",
        "    month (int): Month\n",
        "    day (int): Day\n",
        "    hour (int): Hour\n",
        "    minute (int): Minute\n",
        "    second (int): Second\n",
        "\n",
        "    Returns:\n",
        "    tuple: Julian Date (JD) and Modified Julian Date (MJD)\n",
        "    \"\"\"\n",
        "    if month <= 2:\n",
        "        year -= 1\n",
        "        month += 12\n",
        "    A = year // 100\n",
        "    B = 2 - A + (A // 4)\n",
        "    JD = int(365.25 * (year + 4716)) + int(30.6001 * (month + 1)) + day + B - 1524.5 + (hour + minute / 60 + second / 3600) / 24\n",
        "    MJD = JD - 2400000.5\n",
        "    return JD, MJD\n",
        "\n",
        "\n",
        "def local_to_gpst(year, month, day, hour, minute, second):\n",
        "    \"\"\"\n",
        "    Convert local time to GPS Time (week and seconds of week).\n",
        "\n",
        "    Parameters:\n",
        "    year (int): Year\n",
        "    month (int): Month\n",
        "    day (int): Day\n",
        "    hour (int): Hour\n",
        "    minute (int): Minute\n",
        "    second (int): Second\n",
        "\n",
        "    Returns:\n",
        "    tuple: GPS Week and seconds of the week\n",
        "    \"\"\"\n",
        "    # Convert local time to UTC\n",
        "    utc_year, utc_month, utc_day, utc_hour, utc_minute, utc_second = local_to_utc(year, month, day, hour, minute, second, 0)\n",
        "\n",
        "    # Calculate Julian Date\n",
        "    JD, _ = local_to_utc_jd(utc_year, utc_month, utc_day, utc_hour, utc_minute, utc_second)\n",
        "\n",
        "    # GPS epoch starts on January 6, 1980\n",
        "    gps_epoch_jd = 2444244.5  # JD for January 6, 1980\n",
        "    gps_time_days = JD - gps_epoch_jd\n",
        "    gps_week = int(gps_time_days // 7)\n",
        "    gps_seconds_of_week = gps_time_days * 86400 % 604800  # Seconds in a week\n",
        "\n",
        "    return gps_week, gps_seconds_of_week\n",
        "\n",
        "\n",
        "def local_to_tai(year, month, day, hour, minute, second, timezone_offset):\n",
        "    \"\"\"\n",
        "    Convert local time to TAI.\n",
        "\n",
        "    Parameters:\n",
        "    year (int): Year\n",
        "    month (int): Month\n",
        "    day (int): Day\n",
        "    hour (int): Hour\n",
        "    minute (int): Minute\n",
        "    second (int): Second\n",
        "    timezone_offset (int): Timezone offset in hours\n",
        "\n",
        "    Returns:\n",
        "    tuple: TAI as seconds since epoch (1970-01-01 00:00:00 UTC) and total leap seconds added\n",
        "    \"\"\"\n",
        "    # Leap seconds table (as of 2024, total leap seconds = 38)\n",
        "    leap_seconds_table = {\n",
        "        1958: 0, 1960: 1, 1961: 2, 1962: 3, 1963: 4, 1964: 5,\n",
        "        1965: 6, 1966: 7, 1967: 8, 1968: 9, 1969: 10, 1970: 11,\n",
        "        1971: 12, 1972: 13, 1973: 14, 1974: 15, 1975: 16, 1976: 17,\n",
        "        1977: 18, 1978: 19, 1979: 20, 1981: 21, 1982: 22, 1983: 23,\n",
        "        1985: 24, 1987: 25, 1989: 26, 1990: 27, 1992: 28, 1993: 29,\n",
        "        1994: 30, 1995: 31, 1997: 32, 1998: 33, 2005: 34, 2008: 35,\n",
        "        2012: 36, 2015: 37, 2016: 38  # Last recorded leap second\n",
        "    }\n",
        "\n",
        "    # Convert local time to UTC\n",
        "    utc_year, utc_month, utc_day, utc_hour, utc_minute, utc_second = local_to_utc(\n",
        "        year, month, day, hour, minute, second, timezone_offset)\n",
        "\n",
        "    # Calculate total leap seconds based on UTC year\n",
        "    leap_seconds = 0\n",
        "    for year_key in leap_seconds_table:\n",
        "        if year_key < utc_year or (year_key == utc_year and (utc_month > 1 or (utc_month == 1 and utc_day >= 1))):\n",
        "            leap_seconds = leap_seconds_table[year_key]\n",
        "\n",
        "    # Calculate the UTC timestamp in seconds since the epoch\n",
        "    utc_seconds = (\n",
        "        (utc_year - 1970) * 365 * 24 * 3600 +   # Years\n",
        "        ((utc_year - 1970) // 4) * 24 * 3600 +  # Leap years\n",
        "        (utc_month - 1) * 30 * 24 * 3600 +      # Months (simplified)\n",
        "        (utc_day - 1) * 24 * 3600 +              # Days\n",
        "        utc_hour * 3600 + utc_minute * 60 + utc_second  # Time\n",
        "    )\n",
        "\n",
        "    # Add leap seconds to convert UTC to TAI\n",
        "    tai_seconds = utc_seconds + leap_seconds\n",
        "\n",
        "    return tai_seconds, leap_seconds\n",
        "\n",
        "\n",
        "# Example usage\n",
        "year, month, day, hour, minute, second = 2023, 10, 19, 15, 30, 0\n",
        "timezone_offset = -5  # For example, UTC-5\n",
        "\n",
        "jd, mjd = local_to_utc_jd(year, month, day, hour, minute, second)\n",
        "gps_week, gps_seconds = local_to_gpst(year, month, day, hour, minute, second)\n",
        "tai_seconds, tai_leap_seconds = local_to_tai(year, month, day, hour, minute, second, timezone_offset)\n",
        "\n",
        "print(f\"Julian Date: {jd}, Modified Julian Date: {mjd}\")\n",
        "print(f\"GPS Week: {gps_week}, Seconds of Week: {gps_seconds}\")\n",
        "print(f\"TAI (in seconds since epoch): {tai_seconds}, Leap Seconds: {tai_leap_seconds}\")\n"
      ],
      "metadata": {
        "colab": {
          "base_uri": "https://localhost:8080/"
        },
        "id": "Fj_qsgZ3oEob",
        "outputId": "31089ece-3cd8-4834-ec45-b309f6e38cb6"
      },
      "execution_count": null,
      "outputs": [
        {
          "output_type": "stream",
          "name": "stdout",
          "text": [
            "Julian Date: 2460237.1458333335, Modified Julian Date: 60236.64583333349\n",
            "GPS Week: 2284, Seconds of Week: 401400.00001335144\n",
            "TAI (in seconds since epoch): 1697488238, Leap Seconds: 38\n"
          ]
        }
      ]
    }
  ]
}